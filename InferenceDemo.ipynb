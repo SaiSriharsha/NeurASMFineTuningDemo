{
 "cells": [
  {
   "cell_type": "code",
   "execution_count": 1,
   "metadata": {},
   "outputs": [],
   "source": [
    "import torch"
   ]
  },
  {
   "cell_type": "code",
   "execution_count": 2,
   "metadata": {},
   "outputs": [],
   "source": [
    "def load_pretrained_tacotron_model(weights_file = None):\n",
    "    if weights_file is None:\n",
    "        pretrained_tacotron2 = torch.hub.load('nvidia/DeepLearningExamples:torchhub', 'nvidia_tacotron2', model_math='fp32', weights_only=True, pretrained=True)\n",
    "        pretrained_tacotron2 = pretrained_tacotron2.to('cuda')\n",
    "        pretrained_tacotron2.eval()\n",
    "        return pretrained_tacotron2\n",
    "    else:\n",
    "        tacotron2 = torch.hub.load('nvidia/DeepLearningExamples:torchhub', 'nvidia_tacotron2', model_math='fp32', weights_only=True, pretrained = False)\n",
    "        tacotron2.load_state_dict(torch.load(weights_file, weights_only=True))\n",
    "        tacotron2 = tacotron2.to('cuda')\n",
    "        tacotron2.eval()\n",
    "        return tacotron2\n"
   ]
  },
  {
   "cell_type": "code",
   "execution_count": 3,
   "metadata": {},
   "outputs": [],
   "source": [
    "def load_hifigan():\n",
    "    hifigan, vocoder_train_setup, denoiser = torch.hub.load('NVIDIA/DeepLearningExamples:torchhub', 'nvidia_hifigan')\n",
    "    hifigan = hifigan.to('cuda')\n",
    "    hifigan.eval()\n",
    "    return hifigan"
   ]
  },
  {
   "cell_type": "code",
   "execution_count": 4,
   "metadata": {},
   "outputs": [],
   "source": [
    "def load_text_processing_utils():\n",
    "    return torch.hub.load('NVIDIA/DeepLearningExamples:torchhub', 'nvidia_tts_utils')"
   ]
  },
  {
   "cell_type": "code",
   "execution_count": 5,
   "metadata": {},
   "outputs": [
    {
     "name": "stderr",
     "output_type": "stream",
     "text": [
      "Using cache found in /root/.cache/torch/hub/NVIDIA_DeepLearningExamples_torchhub\n",
      "/root/.cache/torch/hub/NVIDIA_DeepLearningExamples_torchhub/PyTorch/Classification/ConvNets/image_classification/models/common.py:13: UserWarning: pytorch_quantization module not found, quantization will not be available\n",
      "  warnings.warn(\n",
      "/root/.cache/torch/hub/NVIDIA_DeepLearningExamples_torchhub/PyTorch/Classification/ConvNets/image_classification/models/efficientnet.py:17: UserWarning: pytorch_quantization module not found, quantization will not be available\n",
      "  warnings.warn(\n",
      "Using cache found in /root/.cache/torch/hub/NVIDIA_DeepLearningExamples_torchhub\n",
      "/root/.cache/torch/hub/NVIDIA_DeepLearningExamples_torchhub/PyTorch/SpeechSynthesis/HiFiGAN/hifigan/entrypoints.py:86: FutureWarning: You are using `torch.load` with `weights_only=False` (the current default value), which uses the default pickle module implicitly. It is possible to construct malicious pickle data which will execute arbitrary code during unpickling (See https://github.com/pytorch/pytorch/blob/main/SECURITY.md#untrusted-models for more details). In a future release, the default value for `weights_only` will be flipped to `True`. This limits the functions that could be executed during unpickling. Arbitrary objects will no longer be allowed to be loaded via this mode unless they are explicitly allowlisted by the user via `torch.serialization.add_safe_globals`. We recommend you start setting `weights_only=True` for any use case where you don't have full control of the loaded file. Please open an issue on GitHub for any issues related to this experimental feature.\n",
      "  ckpt = torch.load(ckpt_file)\n",
      "/workspace/venv/lib/python3.10/site-packages/torch/nn/utils/weight_norm.py:134: FutureWarning: `torch.nn.utils.weight_norm` is deprecated in favor of `torch.nn.utils.parametrizations.weight_norm`.\n",
      "  WeightNorm.apply(module, name, dim)\n"
     ]
    },
    {
     "name": "stdout",
     "output_type": "stream",
     "text": [
      "HiFi-GAN: Removing weight norm.\n"
     ]
    },
    {
     "name": "stderr",
     "output_type": "stream",
     "text": [
      "Using cache found in /root/.cache/torch/hub/nvidia_DeepLearningExamples_torchhub\n",
      "/root/.cache/torch/hub/NVIDIA_DeepLearningExamples_torchhub/PyTorch/SpeechSynthesis/Tacotron2/tacotron2/entrypoints.py:99: FutureWarning: You are using `torch.load` with `weights_only=False` (the current default value), which uses the default pickle module implicitly. It is possible to construct malicious pickle data which will execute arbitrary code during unpickling (See https://github.com/pytorch/pytorch/blob/main/SECURITY.md#untrusted-models for more details). In a future release, the default value for `weights_only` will be flipped to `True`. This limits the functions that could be executed during unpickling. Arbitrary objects will no longer be allowed to be loaded via this mode unless they are explicitly allowlisted by the user via `torch.serialization.add_safe_globals`. We recommend you start setting `weights_only=True` for any use case where you don't have full control of the loaded file. Please open an issue on GitHub for any issues related to this experimental feature.\n",
      "  ckpt = torch.load(ckpt_file)\n",
      "Using cache found in /root/.cache/torch/hub/nvidia_DeepLearningExamples_torchhub\n",
      "Using cache found in /root/.cache/torch/hub/nvidia_DeepLearningExamples_torchhub\n"
     ]
    }
   ],
   "source": [
    "utils = load_text_processing_utils()\n",
    "hifigan = load_hifigan()\n",
    "\n",
    "tacotron2_pretrained = load_pretrained_tacotron_model()\n",
    "tacotron2_finetuned_english10 = load_pretrained_tacotron_model(\"./tacotron2_finetuned_english10.pt\")\n",
    "tacotron2_finetuned_french38 = load_pretrained_tacotron_model(\"./tacotron2_finetuned_french38.pt\")"
   ]
  },
  {
   "cell_type": "code",
   "execution_count": 6,
   "metadata": {},
   "outputs": [],
   "source": [
    "\n",
    "texts = [\n",
    "    \"All the world's a stage, all the men and women merely players\",\n",
    "    \"To be, or not to be, that is the question\",\n",
    "    \"I am constant, as the northern star\",\n",
    "    \"Vaulting ambition, which o’erleaps itself\",\n",
    "    \"Tomorrow, and tomorrow, and tomorrow, creeps from day to day\",\n",
    "    \"The wheel is come full circle\",\n",
    "    \"The better part of valour is discretion\",\n",
    "    \"The quality of mercy is not strained\",\n",
    "]\n",
    "\n",
    "inputs = [utils.prepare_input_sequence([text]) for text in texts]"
   ]
  },
  {
   "cell_type": "code",
   "execution_count": 8,
   "metadata": {},
   "outputs": [
    {
     "data": {
      "application/vnd.jupyter.widget-view+json": {
       "model_id": "c72459c980794ab997a79e6ad97862b7",
       "version_major": 2,
       "version_minor": 0
      },
      "text/plain": [
       "GridspecLayout(children=(Output(layout=Layout(grid_area='widget001')), Output(layout=Layout(grid_area='widget0…"
      ]
     },
     "execution_count": 8,
     "metadata": {},
     "output_type": "execute_result"
    }
   ],
   "source": [
    "from IPython import display\n",
    "from ipywidgets import Output, GridspecLayout\n",
    "\n",
    "\n",
    "grid = GridspecLayout(len(texts) + 1, 4)\n",
    "\n",
    "\n",
    "for i, text in enumerate([\"Sentence\", \"Tacotron2\", \"Tacotron2 Finetuned 1\", \"Tacotron2 Finetuned 2\"]):\n",
    "    out = Output()\n",
    "    with out:\n",
    "        print(text)\n",
    "    grid[0, i] = out\n",
    "\n",
    "for i in range(len(texts)):\n",
    "\n",
    "    out = Output()\n",
    "    with out:\n",
    "        print(texts[i])\n",
    "    grid[i + 1, 0] = out\n",
    "\n",
    "    with torch.inference_mode():\n",
    "        mel, _, _ = tacotron2_pretrained.infer(inputs[i][0], inputs[i][1])\n",
    "        audios = hifigan(mel).float()\n",
    "        audios = audios.squeeze(1) * 32768.0\n",
    "        audio_numpy = audios[0].cpu().numpy()\n",
    "        out = Output()\n",
    "        with out:\n",
    "            display.display(display.Audio(audio_numpy, rate=22050))\n",
    "            print(str(round(audio_numpy.shape[0] / 22050.0, 2)) + \" sec\\n\")\n",
    "        grid[i + 1, 1] = out\n",
    "\n",
    "    with torch.inference_mode():\n",
    "        mel, _, _ = tacotron2_finetuned_english10.infer(inputs[i][0], inputs[i][1])\n",
    "        audios = hifigan(mel).float()\n",
    "        audios = audios.squeeze(1) * 32768.0\n",
    "        audio_numpy = audios[0].cpu().numpy()\n",
    "        out = Output()\n",
    "        with out:\n",
    "            display.display(display.Audio(audio_numpy, rate=22050))\n",
    "            print(str(round(audio_numpy.shape[0] / 22050.0, 2)) + \" sec\\n\")\n",
    "        grid[i + 1, 2] = out\n",
    "\n",
    "    with torch.inference_mode():\n",
    "        mel, _, _ = tacotron2_finetuned_french38.infer(inputs[i][0], inputs[i][1])\n",
    "        audios = hifigan(mel).float()\n",
    "        audios = audios.squeeze(1) * 32768.0\n",
    "        audio_numpy = audios[0].cpu().numpy()\n",
    "        out = Output()\n",
    "        with out:\n",
    "            display.display(display.Audio(audio_numpy, rate=22050))\n",
    "            print(str(round(audio_numpy.shape[0] / 22050.0, 2)) + \" sec\\n\")\n",
    "        grid[i + 1, 3] = out\n",
    "\n",
    "grid"
   ]
  },
  {
   "cell_type": "code",
   "execution_count": null,
   "metadata": {},
   "outputs": [],
   "source": []
  }
 ],
 "metadata": {
  "kernelspec": {
   "display_name": "venv",
   "language": "python",
   "name": "python3"
  },
  "language_info": {
   "codemirror_mode": {
    "name": "ipython",
    "version": 3
   },
   "file_extension": ".py",
   "mimetype": "text/x-python",
   "name": "python",
   "nbconvert_exporter": "python",
   "pygments_lexer": "ipython3",
   "version": "3.10.12"
  }
 },
 "nbformat": 4,
 "nbformat_minor": 2
}
